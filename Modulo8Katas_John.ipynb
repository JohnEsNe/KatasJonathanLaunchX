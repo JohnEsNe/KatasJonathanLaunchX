{
 "cells": [
  {
   "cell_type": "markdown",
   "metadata": {},
   "source": [
    "MÓDULO 8 - ADMINISTRAR DATOS CON DICCIONARIOS"
   ]
  },
  {
   "cell_type": "code",
   "execution_count": 114,
   "metadata": {},
   "outputs": [],
   "source": [
    "# INTRODUCCIÓN A LOS DICCIONARIOS DE PYTHON\n",
    "\n",
    "# Las variables de Python pueden almacenar varios tipos de datos. Anteriormente, hemos aprendido que puedes almacenar cadenas y números:\n",
    "name = 'Earth'\n",
    "moon = 1\n",
    "\n",
    "earth_name = 'Earth'\n",
    "earth_moon = 1\n",
    "\n",
    "jupiter_name = 'Jupiter'\n",
    "Jupiter_moon = 79\n",
    "\n",
    "# Observa cómo se duplican las variables con prefijos diferentes. Esto puede resultar difícil de manejar. Con frecuencia tendrás que trabajar con conjuntos de datos relacionados, como por ejemplo:\n",
    "# el promedio de precipitaciones durante varios meses en distintas ciudades, almacenarlos como valores individuales no es una opción viable. Aquí es donde los diccionarios de Python pueden ayudarnos.\n",
    "\n",
    "# Los diccionarios de Python permiten trabajar con conjuntos de datos relacionados. Un diccionario es una colección de pares clave-valor. Piensa que es como un grupo de variables dentro de una cajita,\n",
    "# donde la clave es el nombre de la variable y el valor es el valor almacenado en su interior.\n",
    "\n",
    "# CREACIÓN DE UN DICCIONARIO\n",
    "\n",
    "# Python usa llaves ({ }) y dos puntos (:) para indicar un diccionario. Puedes crear un diccionario vacío y agregar valores más adelante, o bien \n",
    "# rellenarlo en el momento de la creación. Cada clave o valor está separado por dos puntos y el nombre de cada clave se incluye entre comillas \n",
    "# como un literal de cadena. Como la clave es un literal de cadena, puede usar el nombre que sea adecuado para describir el valor(Sí el que tu quieras).\n",
    "\n",
    "# Ahora crearemos un diccionario para almacenar el nombre del planeta Tierra y el número de lunas que tiene:\n",
    "\n",
    "planet = {\n",
    "    'name': 'Earth',\n",
    "    'moon': 1\n",
    "}\n",
    "\n",
    "# Tiene dos claves, 'name' y 'moons'. Cada una se comporta igual que una variable: tienen un nombre único y almacenan un valor. Pero se \n",
    "# incluyen dentro de una única variable más grande, denominada planet."
   ]
  },
  {
   "cell_type": "code",
   "execution_count": 115,
   "metadata": {},
   "outputs": [
    {
     "name": "stdout",
     "output_type": "stream",
     "text": [
      "Earth\n",
      "Earth\n"
     ]
    },
    {
     "ename": "KeyError",
     "evalue": "'wibble'",
     "output_type": "error",
     "traceback": [
      "\u001b[1;31m---------------------------------------------------------------------------\u001b[0m",
      "\u001b[1;31mKeyError\u001b[0m                                  Traceback (most recent call last)",
      "\u001b[1;32mc:\\Users\\john1\\Documents\\Jonathan\\Cursos\\Microsoft Launch X\\Modulo8Katas_John.ipynb Cell 3'\u001b[0m in \u001b[0;36m<module>\u001b[1;34m\u001b[0m\n\u001b[0;32m     <a href='vscode-notebook-cell:/c%3A/Users/john1/Documents/Jonathan/Cursos/Microsoft%20Launch%20X/Modulo8Katas_John.ipynb#ch0000002?line=13'>14</a>\u001b[0m \u001b[39m# Aunque el comportamiento de get y los corchetes ([ ]) suele ser el mismo para recuperar elementos, hay una diferencia principal. Si una \u001b[39;00m\n\u001b[0;32m     <a href='vscode-notebook-cell:/c%3A/Users/john1/Documents/Jonathan/Cursos/Microsoft%20Launch%20X/Modulo8Katas_John.ipynb#ch0000002?line=14'>15</a>\u001b[0m \u001b[39m# clave no está disponible, get devuelve None y [ ] genera un error KeyError.\u001b[39;00m\n\u001b[0;32m     <a href='vscode-notebook-cell:/c%3A/Users/john1/Documents/Jonathan/Cursos/Microsoft%20Launch%20X/Modulo8Katas_John.ipynb#ch0000002?line=16'>17</a>\u001b[0m wibble \u001b[39m=\u001b[39m planet\u001b[39m.\u001b[39mget(\u001b[39m'\u001b[39m\u001b[39mwibble\u001b[39m\u001b[39m'\u001b[39m) \u001b[39m# Regresa None\u001b[39;00m\n\u001b[1;32m---> <a href='vscode-notebook-cell:/c%3A/Users/john1/Documents/Jonathan/Cursos/Microsoft%20Launch%20X/Modulo8Katas_John.ipynb#ch0000002?line=17'>18</a>\u001b[0m wibble \u001b[39m=\u001b[39m planet[\u001b[39m'\u001b[39;49m\u001b[39mwibble\u001b[39;49m\u001b[39m'\u001b[39;49m]\n",
      "\u001b[1;31mKeyError\u001b[0m: 'wibble'"
     ]
    }
   ],
   "source": [
    "# LECTURA DE LOS VALORES DE UN DICCIONARIO\n",
    "\n",
    "# Podemos leer valores dentro de un diccionario. Los objetos de diccionario tienen un método llamado get que puedes usar para acceder a un \n",
    "# valor mediante su clave. Si queremos imprimir name, funcionaría de la siguiente manera:\n",
    "\n",
    "print(planet.get('name')) # Muestra Earth\n",
    "\n",
    "# Como podrías sospechar, el acceso a los valores de un diccionario es una operación común. Afortunadamente, hay un acceso directo. También \n",
    "# puedes pasar la clave entre corchetes ([ ]). Utilizando menos código que get y la mayoría de los programadores utilizan esta sintaxis en su \n",
    "# lugar. Podemos reescribir el ejemplo anterior de la siguiente forma:\n",
    "\n",
    "print(planet['name']) # planet['name'] es idéntico a usar planet.get('name') Muestra Earth\n",
    "\n",
    "# Aunque el comportamiento de get y los corchetes ([ ]) suele ser el mismo para recuperar elementos, hay una diferencia principal. Si una \n",
    "# clave no está disponible, get devuelve None y [ ] genera un error KeyError.\n",
    "\n",
    "wibble = planet.get('wibble') # Regresa None\n",
    "wibble = planet['wibble'] # Arroja un KeyError\n",
    "\n",
    "# Cómo te podrás dar cuenta, funcionan con una estructura similar a las listas. Ya que en el caso de las listas accedemos a cada uno de sus \n",
    "# elementos a través de su índice (posición iniciando en 0) y en el caso de un diccionario, accedemos a sus elementos mediante la 'clave'"
   ]
  },
  {
   "cell_type": "code",
   "execution_count": null,
   "metadata": {},
   "outputs": [
    {
     "name": "stdout",
     "output_type": "stream",
     "text": [
      "Makemake\n",
      "{'name': 'Makemake', 'moons': 1}\n",
      "{'name': 'Jupiter', 'moons': 79}\n",
      "{'name': 'Jupíter', 'moons': 79}\n"
     ]
    }
   ],
   "source": [
    "# MODIFICACIÓN DE VALORES DE UN DICCIONARIO\n",
    "\n",
    "# También puedes modificar valores dentro de un objeto de diccionario, con el método update. Este método acepta un diccionario como \n",
    "# parámetro (sí, parámetro por que un diccionario es un rango de valores) y actualiza los valores existentes con los nuevos que proporciones. Si \n",
    "# quieres cambiar name para el diccionario planet, puedes usar lo siguiente, por ejemplo:\n",
    "\n",
    "#planet.update({'name': 'Makemake'}) # name ahora es Makemake\n",
    "\n",
    "# Al igual que se usa el acceso directo de corchetes ([ ]) para leer valores, se puede utilizar para modificar valores. La principal diferencia en la \n",
    "# sintaxis es que se usa = (a veces denominado operador de asignación) para proporcionar un nuevo valor. Para modificar el ejemplo anterior y \n",
    "# cambiar el nombre, puedes usar lo siguiente:\n",
    "\n",
    "# planet['name'] = 'Makemake' # name ahora es Makemake\n",
    "planet = {\n",
    "    'name': 'Earth',\n",
    "    'moons': 1\n",
    "}\n",
    "# print(planet['name'])\n",
    "planet.update({'name': 'Makemake'}) # name ahora es Makemake\n",
    "\n",
    "print(planet['name'])\n",
    "print(planet)\n",
    "\n",
    "# La principal ventaja de usar update es la capacidad de modificar varios valores en una operación. Los dos ejemplos siguientes son lógicamente \n",
    "# los mismos, pero la sintaxis es diferente. Puedes usar la sintaxis que creas más adecuada. Para actualizar valores individuales, la mayoría de los \n",
    "# desarrolladores eligen corchetes.\n",
    "\n",
    "# En el ejemplo siguiente se hacen las mismas modificaciones en la variable planet y se actualizan el nombre y las lunas. Ten en cuenta que al \n",
    "# usar update realizas una sola llamada a la función, mientras que el uso de corchetes implica dos llamadas.\n",
    "\n",
    "# Usando update\n",
    "planet.update({\n",
    "    'name': 'Jupiter',\n",
    "    'moons': 79\n",
    "})\n",
    "\n",
    "print(planet)\n",
    "\n",
    "# Usando Corchetes\n",
    "planet['name'] = 'Jupíter'\n",
    "planet['moons'] = 79\n",
    "\n",
    "print(planet)"
   ]
  },
  {
   "cell_type": "code",
   "execution_count": null,
   "metadata": {},
   "outputs": [
    {
     "name": "stdout",
     "output_type": "stream",
     "text": [
      "{'name': 'Jupíter', 'moons': 79, 'orbital period': 4333}\n",
      "{'name': 'Jupíter', 'moons': 79}\n"
     ]
    }
   ],
   "source": [
    "# ACCIÓN Y ELIMINACIÓN DE CLAVES\n",
    "\n",
    "# No es necesario crear todas las claves al inicializar un diccionario. De hecho, no es necesario crear ninguna. Siempre que quieras crear una \n",
    "# clave, asígnala como harías con una existente.\n",
    "\n",
    "# Imagina que quieres actualizar planet para incluir el período orbital en días:\n",
    "\n",
    "planet['orbital period'] = 4333\n",
    "print(planet)\n",
    "\n",
    "# el diccionario planet ahora contiene: {\n",
    "#   name: 'jupiter'\n",
    "#   moons: 79\n",
    "#   orbital period: 4333\n",
    "# }\n",
    "\n",
    "# Los nombres de una clave, como todo lo demás en Python, distinguen mayúsculas de minúsculas. Como resultado, 'name' y 'Name' se \n",
    "# consideran dos claves independientes en un diccionario de Python.\n",
    "\n",
    "# Para quitar una clave, usa pop. pop devuelve el valor y quita la clave del diccionario. Para eliminar orbital period, puedes usar el código \n",
    "# siguiente:\n",
    "\n",
    "planet.pop('orbital period')\n",
    "print(planet)\n",
    "\n",
    "# el diccionario planet ahora contiene: {\n",
    "#   name: 'jupiter'\n",
    "#   moons: 79\n",
    "# }"
   ]
  },
  {
   "cell_type": "code",
   "execution_count": null,
   "metadata": {},
   "outputs": [
    {
     "name": "stdout",
     "output_type": "stream",
     "text": [
      "{'name': 'Jupíter', 'moons': 79, 'diameter (Km)': {'polar': 133709, 'equatorial': 142984}}\n",
      "Jupíter polar diameter: 133709\n"
     ]
    }
   ],
   "source": [
    "# TIPOS DE DATA COMPLEJOS\n",
    "\n",
    "# Los diccionarios pueden almacenar cualquier tipo de valor, incluidos otros diccionarios. Esto te permite modelar datos complejos según sea \n",
    "# necesario. Imagina que debes que almacenar el diámetro de planet, que se podría medir alrededor de su ecuador o de los polos. Puedes \n",
    "# crear otro diccionario dentro de planet para almacenar esta información:\n",
    "\n",
    "# Añadimos los datos\n",
    "\n",
    "planet['diameter (Km)'] = {\n",
    "    'polar': 133709,\n",
    "    'equatorial': 142984\n",
    "}\n",
    "\n",
    "# el diccionario planet ahora contiene: {\n",
    "#   name: 'Jupiter'\n",
    "#   moons: 79\n",
    "#   diameter (km): {\n",
    "#      polar: 133709\n",
    "#      equatorial: 142984\n",
    "#   }\n",
    "# }\n",
    "print(planet)\n",
    "\n",
    "# Para recuperar valores en un diccionario anidado, debe puedes utilizar corchetes [ ] o llamar a get.\n",
    "print (f\"{planet['name']} polar diameter: {planet['diameter (Km)']['polar']}\") # Salida: Jupiter polar diameter: 133709"
   ]
  },
  {
   "cell_type": "code",
   "execution_count": null,
   "metadata": {},
   "outputs": [
    {
     "name": "stdout",
     "output_type": "stream",
     "text": [
      "{'october': 3.5, 'november': 4.2, 'december': 2.1}\n",
      "october: 3.5cm\n",
      "november: 4.2cm\n",
      "december: 2.1cm\n"
     ]
    }
   ],
   "source": [
    "# PROGRAMACIÓN DINÁMICA CON DICCIONARIOS\n",
    "\n",
    "# Recuperación de todas las claves y valores\n",
    "# El método keys() devuelve un objeto de lista que contiene todas las claves. Puedes usar este método para iterar por todos los elementos del diccionario.\n",
    "\n",
    "# Imagina que tiene el siguiente diccionario, en el que se almacenan los últimos tres meses de precipitaciones (rainfall).\n",
    "rainfall = {\n",
    "    'october': 3.5,\n",
    "    'november': 4.2,\n",
    "    'december': 2.1\n",
    "}\n",
    "\n",
    "print(rainfall)\n",
    "\n",
    "# Imagina que quiere mostrar la lista de todas las precipitaciones. Puedes escribir el nombre de cada mes, pero sería tedioso, en este caso hacemos uso del método keys().\n",
    "\n",
    "for key in rainfall.keys():\n",
    "    print(f'{key}: {rainfall[key]}cm') \n",
    "\n",
    "# Para cada clave en las claves(keys()) contenidas en rainfalls: muestra la clave que estás iterando (meses): así como el valor (número) de la clave \n",
    "# que estamos iterando (clave-mes : valor-número) en cm"
   ]
  },
  {
   "cell_type": "code",
   "execution_count": 116,
   "metadata": {},
   "outputs": [
    {
     "name": "stdout",
     "output_type": "stream",
     "text": [
      "{'october': 3.5, 'november': 4.2, 'december': 4.1}\n"
     ]
    }
   ],
   "source": [
    "# DETERMINANDO LA EXISTENCIA DE UNA CLAVE EN UN DICCIONARIO\n",
    "\n",
    "# Al actualizar un valor en un diccionario, Python sobrescribirá el valor existente o creará uno en su defecto, si la clave no existe. Si quieres \n",
    "# agregar un valor en lugar de sobrescribirlo, puedes comprobar si la clave existe mediante in. Por ejemplo, si quieres agregar un valor a \n",
    "# diciembre o crear uno si no existe, puedes usar lo siguiente:\n",
    "\n",
    "# El valor de december: 2.1cm\n",
    "\n",
    "# Si, 'december' existe en rainfall\n",
    "if 'december' in rainfall:\n",
    "    # rainfall [en la posición december] es igual a\n",
    "    # rainfall [en la posición december] + 1 (2.1+1)\n",
    "    rainfall['december'] = rainfall['december'] + 1\n",
    "\n",
    "# Si no:\n",
    "else:\n",
    "\n",
    "    # rainfall [en la posición december] es igual a 1\n",
    "    rainfall['december'] = 1\n",
    "\n",
    "# Como december si existe, el valor será 3.1\n",
    "\n",
    "print(rainfall)"
   ]
  },
  {
   "cell_type": "code",
   "execution_count": 117,
   "metadata": {},
   "outputs": [
    {
     "name": "stdout",
     "output_type": "stream",
     "text": [
      "There was 11.8cm in the last quarter\n"
     ]
    }
   ],
   "source": [
    "# RECUPERAR TODOS LOS VALORES DE UN DICCIONARIO\n",
    "\n",
    "# De forma similar a keys(), values() devuelve la lista de todos los valores de un diccionario sin sus claves correspondientes. Esto puede \n",
    "# resultar útil cuando se usa la clave con fines de etiquetado, como en el ejemplo anterior, en el que las claves son el nombre del mes. Puedes \n",
    "# usar values() para determinar el importe total de las precipitaciones:\n",
    "\n",
    "#Total de precipitaciones 0\n",
    "total_rainfall = 0\n",
    "\n",
    "# Para cada valor en los valores de rainfall\n",
    "for value in rainfall.values():\n",
    "    \n",
    "    # El total de las precipitaciones será igual a ese mismo + el valor que se está iterando\n",
    "\n",
    "    total_rainfall = total_rainfall + value\n",
    "\n",
    "# Muestra 'Hay un total de precipitaciones (el valor total) en centímetros en el último cuarto (haciendo referencia al cuarto del año)\n",
    "\n",
    "print(f'There was {total_rainfall}cm in the last quarter')\n",
    "\n",
    "# Salida:\n",
    "# There was 10.8cm in the last quarter\n"
   ]
  },
  {
   "cell_type": "markdown",
   "metadata": {},
   "source": [
    "Módulo8Katas"
   ]
  },
  {
   "cell_type": "code",
   "execution_count": 193,
   "metadata": {},
   "outputs": [
    {
     "name": "stdout",
     "output_type": "stream",
     "text": [
      "Mars has 42 moons\n",
      "{'name': 'Mars', 'moons': 42}\n",
      "{'name': 'Mars', 'moons': 42, 'circumference (km)': {'polar': 6752, 'equatorial': 6792}}\n",
      "Mars has a polar circumference of 6752\n"
     ]
    }
   ],
   "source": [
    "# Ejercicio 1: Creación de Diccionarios de Python\n",
    "\n",
    "Planets = {\n",
    "    'name': 'Mars',\n",
    "    'moons': 42\n",
    "}\n",
    "print(f\"{Planets.get('name')} has {Planets.get('moons')} moons\")\n",
    "print(Planets)\n",
    "#Planets.pop ('circunferencia (Km)')\n",
    "\n",
    "Planets['circumference (km)'] = {\n",
    "    'polar': 6752,\n",
    "    'equatorial': 6792\n",
    "}\n",
    "print(Planets)\n",
    "\n",
    "# print(f\"{Planets.get('name')} has a circumference of {Planets.get['circumference (km)','polar']}\")\n",
    "print(f\"{Planets['name']} has a polar circumference of {Planets['circumference (km)']['polar']}\")"
   ]
  },
  {
   "cell_type": "code",
   "execution_count": 208,
   "metadata": {},
   "outputs": [
    {
     "name": "stdout",
     "output_type": "stream",
     "text": [
      " 214\n",
      "dict_values([0, 0, 1, 2, 79, 82, 27, 14, 5, 2, 1, 1])\n",
      "12\n",
      "17.833333333333332\n"
     ]
    }
   ],
   "source": [
    "planet_moons = {\n",
    "    'mercur7': 0,\n",
    "    'venus': 0,\n",
    "    'earth': 1,\n",
    "    'mars': 2,\n",
    "    'jupiter': 79,\n",
    "    'saturn': 82,\n",
    "    'uranus': 27,\n",
    "    'neptune': 14,\n",
    "    'pluto': 5,\n",
    "    'haumea': 2,\n",
    "    'makemake': 1,\n",
    "    'eris': 1\n",
    "}\n",
    "Total_moons = 0\n",
    "for moons in planet_moons.values():\n",
    "    Total_moons = Total_moons + moons\n",
    "print(f\" {Total_moons}\")\n",
    "\n",
    "\n",
    "\n",
    "# Añade el código para determinar el número de lunas.\n",
    "\n",
    "# Obtenemos la lista de las lunas\n",
    "# Almacenamos los resultados en una variable moons\n",
    "moons = planet_moons.values()\n",
    "print(moons)\n",
    "# Obtenemos el total de planetas\n",
    "# Almacenamos los resultados en una variable llamada years\n",
    "planets = len(planet_moons.keys())\n",
    "print(planets)\n",
    "# Calcula el total_moons agregando todas las lunas\n",
    "# Almacena su valor en una variable llamada total_moons\n",
    "\n",
    "total_moons = 0\n",
    "for moon in moons:\n",
    "    total_moons = total_moons + moon\n",
    "\n",
    "# Calcula el promedio dividiendo el total_moons por el número de planetas\n",
    "average = total_moons / planets\n",
    "\n",
    "# Muestra el promedio\n",
    "print(average)"
   ]
  }
 ],
 "metadata": {
  "interpreter": {
   "hash": "1ada1ad9313aef9b9af45f81f1cec9389e62f6424632f9d10ec8ac56110be255"
  },
  "kernelspec": {
   "display_name": "Python 3.10.2 64-bit (windows store)",
   "language": "python",
   "name": "python3"
  },
  "language_info": {
   "codemirror_mode": {
    "name": "ipython",
    "version": 3
   },
   "file_extension": ".py",
   "mimetype": "text/x-python",
   "name": "python",
   "nbconvert_exporter": "python",
   "pygments_lexer": "ipython3",
   "version": "3.10.2"
  },
  "orig_nbformat": 4
 },
 "nbformat": 4,
 "nbformat_minor": 2
}
