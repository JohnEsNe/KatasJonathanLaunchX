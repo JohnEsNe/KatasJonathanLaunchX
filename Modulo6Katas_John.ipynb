{
 "cells": [
  {
   "cell_type": "markdown",
   "metadata": {},
   "source": [
    "INTRODUCCIÓN A LAS LISTAS"
   ]
  },
  {
   "cell_type": "code",
   "execution_count": 12,
   "metadata": {},
   "outputs": [],
   "source": [
    "# Crear una lista Para crear una lista, asigne una secuencia de valores a una variable. Cada valor está separado por una coma y rodeado por corchetes ([])\n",
    "planets = ['Mercury', 'Venus', 'Earth', 'Mars', 'Jupiter', 'Saturn', 'Uranus', 'Neptune']"
   ]
  },
  {
   "cell_type": "code",
   "execution_count": 13,
   "metadata": {},
   "outputs": [
    {
     "name": "stdout",
     "output_type": "stream",
     "text": [
      "The first planet is Mercury\n",
      "The first planet is Venus\n",
      "The first planet is Earth\n"
     ]
    }
   ],
   "source": [
    "# ACCEDER A ELEMENTOS DE LISTA POR INDICE\n",
    "\n",
    "# Puedes acceder a cualquier elemento de una lista poniendo el index/índice entre [] después del nombre de la variable de lista. Los índices comienzan desde 0, \n",
    "# por lo que en el siguiente código planets[0], es el primer elemento de la lista planets:\n",
    "\n",
    "print('The first planet is', planets[0])\n",
    "print('The first planet is', planets[1])\n",
    "print('The first planet is', planets[2])\n",
    "\n",
    "# Nota: Todos los índices inician en 0, es decir en la posición 0 de la lista planets, es Mercury, en la posición 1 el elemento es Venus y así sucesivamente"
   ]
  },
  {
   "cell_type": "code",
   "execution_count": 14,
   "metadata": {},
   "outputs": [
    {
     "name": "stdout",
     "output_type": "stream",
     "text": [
      "Mars is also know as Red Planet\n"
     ]
    }
   ],
   "source": [
    "# MODIFICAR LOS VALORES DE UNA LISTA\n",
    "\n",
    "# También puedes modificar los valores de una lista mediante un índice. Lo hacemos asignando un nuevo valor, de la misma manera que asignaría un valor a una variable. \n",
    "# Por ejemplo, podrías cambiar el nombre de Marte en la lista para usar su apodo:\n",
    "planets[3] = 'Red Planet'\n",
    "print('Mars is also know as', planets[3]) "
   ]
  },
  {
   "cell_type": "code",
   "execution_count": 15,
   "metadata": {},
   "outputs": [
    {
     "name": "stdout",
     "output_type": "stream",
     "text": [
      "there are 8 planets in the solar system.\n"
     ]
    }
   ],
   "source": [
    "# DETERMINAR LA LONGITUD DE UNA LISTA\n",
    "\n",
    "# Para obtener la longitud de una lista, utilice la función integrada 'len'. El código siguiente crea una nueva variable,number_of_planetsplanets. \n",
    "# El código asigna a esa variable el número de elementos de la lista planets (8 planetas).\n",
    "\n",
    "number_of_planets = len(planets)\n",
    "print('there are', number_of_planets, 'planets in the solar system.')"
   ]
  },
  {
   "cell_type": "code",
   "execution_count": 16,
   "metadata": {},
   "outputs": [
    {
     "name": "stdout",
     "output_type": "stream",
     "text": [
      "There are actually 9 planets in the solar system.\n"
     ]
    }
   ],
   "source": [
    "# AGREGAR VALORES A LA LISTA\n",
    "\n",
    "# Las listas en Python son dinámicas: Es decir, puedes agregar y eliminar elementos después de crearlos. Para agregar un elemento a una lista, utilice el método .append(value).\n",
    "\n",
    "planets.append('Pluto')\n",
    "number_of_planets = len(planets)\n",
    "print('There are actually', number_of_planets, 'planets in the solar system.')\n"
   ]
  },
  {
   "cell_type": "code",
   "execution_count": 17,
   "metadata": {},
   "outputs": [
    {
     "name": "stdout",
     "output_type": "stream",
     "text": [
      "['Mercury', 'Venus', 'Earth', 'Red Planet', 'Jupiter', 'Saturn', 'Uranus', 'Neptune', 'Pluto']\n",
      "There are actually 9 planets in the solar system.\n"
     ]
    }
   ],
   "source": [
    "# A parrir del paso anterior ya se tiene agregado el dato en la lista inicial, se imprime de las dos maneras para que se visualice\n",
    "print(planets)\n",
    "number_of_planets = len(planets)\n",
    "print('There are actually', number_of_planets, 'planets in the solar system.')"
   ]
  },
  {
   "cell_type": "code",
   "execution_count": 18,
   "metadata": {},
   "outputs": [
    {
     "name": "stdout",
     "output_type": "stream",
     "text": [
      "No, there are definitely 8 planets in the solar system.\n"
     ]
    }
   ],
   "source": [
    "# ELIMINAR VALORES DE UNA LISTA\n",
    "\n",
    "# Puedes eliminar el último elemento de una lista llamando al método .pop() de la variable de lista:\n",
    "\n",
    "planets.pop()\n",
    "number_of_planets = len(planets)\n",
    "print('No, there are definitely', number_of_planets, 'planets in the solar system.')"
   ]
  },
  {
   "cell_type": "code",
   "execution_count": 19,
   "metadata": {},
   "outputs": [
    {
     "name": "stdout",
     "output_type": "stream",
     "text": [
      "The first planet is Mercury\n",
      "The last planet is Neptune\n",
      "The penultimate planet is Uranus\n",
      "['Mercury', 'Venus', 'Earth', 'Red Planet', 'Jupiter', 'Saturn', 'Uranus', 'Neptune']\n"
     ]
    }
   ],
   "source": [
    "# INDICE NEGATIVO \n",
    "\n",
    "# Los índices comienzan en cero y aumentan. Los índices negativos comienzan al final de la lista y trabajan hacia atrás. \n",
    "# En el ejemplo siguiente, un índice de -1 devuelve el último elemento de una lista. Un índice de -2 retorna del penúltimo al último.\n",
    "\n",
    "print(\"The first planet is\", planets[0])\n",
    "print('The last planet is', planets[-1])\n",
    "print('The penultimate planet is', planets[-2])\n",
    "print(planets)\n",
    "# Si quisieras devolver del tercero al último, usarías un índice de -3(y así sucesivamente)."
   ]
  },
  {
   "cell_type": "code",
   "execution_count": 20,
   "metadata": {},
   "outputs": [
    {
     "name": "stdout",
     "output_type": "stream",
     "text": [
      "Jupiter is the 5 planet from the sun\n"
     ]
    }
   ],
   "source": [
    "# BUSCAR UN VALOR EN UNA LISTA\n",
    "\n",
    "# Para determinar en qué parte de una lista se almacena un valor, utilizamos el método index() de la lista. Este método busca el valor y devuelve el índice de ese elemento en la lista. \n",
    "# Si no encuentra una coincidencia, devuelve -1.\n",
    "\n",
    "# En el ejemplo siguiente se muestra el uso de 'Jupiter' como valor de índice:\n",
    "\n",
    "Jupiter_index = planets.index('Jupiter')\n",
    "print('Jupiter is the', Jupiter_index + 1, 'planet from the sun')"
   ]
  },
  {
   "cell_type": "markdown",
   "metadata": {},
   "source": [
    "TRABAJAR CON NÚMEROS EN LISTAS"
   ]
  },
  {
   "cell_type": "code",
   "execution_count": 21,
   "metadata": {},
   "outputs": [
    {
     "name": "stdout",
     "output_type": "stream",
     "text": [
      "['Mercury', 'Venus', 'Earth', 'Red Planet', 'Jupiter', 'Saturn', 'Uranus', 'Neptune']\n",
      "[0.378, 0.907, 1, 0.379, 2.36, 0.916, 0.889, 1.12]\n",
      "1.12\n",
      "\n",
      "On Earth, a double-decker bus weighs 12650 kg\n",
      "On Mercury, a double-decker bus weighs 4781.7 kg\n",
      "\n",
      "On Earth, a double-decker bus weighs 12650 kg\n",
      "The lightest a bus would be in the solar system is 4781.7 kg\n",
      "The heaviest a bus would be in the solar system is 29854.0 kg\n"
     ]
    }
   ],
   "source": [
    "# ALMACENAR NÚMEROS EN LISTAS\n",
    "\n",
    "# Para almacenar números con decimales en Python, utilizamos el tipo float. Para crear un float, introduzca el número con el decimal y asígnelo a una variable:\n",
    "\n",
    "gravity_on_Earth = 1.0\n",
    "gravity_on_the_moon = 0.166\n",
    "\n",
    "# En el siguiente código creamos una lista que muestra las fuerzas gravitacionales de los ocho planetas del sistema solar, en G:\n",
    "gravity_on_planets = [0.378, 0.907, 1, 0.379, 2.36, 0.916, 0.889, 1.12]\n",
    "\n",
    "print(planets)\n",
    "print(gravity_on_planets)\n",
    "print(gravity_on_planets[-1])\n",
    "\n",
    "Bus_weight = 12650 # in Kilograms, on Earth\n",
    "print('\\nOn Earth, a double-decker bus weighs', Bus_weight, 'kg')\n",
    "print('On Mercury, a double-decker bus weighs', Bus_weight * gravity_on_planets[0], 'kg')\n",
    "\n",
    "# MIN() y MAX() CON LISTA\n",
    "\n",
    "# Python tiene funciones integradas para calcular los números más grandes y más pequeños de una lista. La función max() devuelve el número más grande y la función min() devuelve el más pequeño. \n",
    "# Así que min(gravity_on_planets)devuelve el número más pequeño de la lista, gravity_on_planets que es 0.378 (Mercurio).\n",
    "\n",
    "# El siguiente código calcula los pesos mínimos y máximos en el sistema solar mediante el uso de esas funciones:\n",
    "Bus_weight = 12650 # in Kilograms, on Earth\n",
    "print('\\nOn Earth, a double-decker bus weighs', Bus_weight, 'kg')\n",
    "print('The lightest a bus would be in the solar system is', Bus_weight * min(gravity_on_planets), 'kg')\n",
    "print('The heaviest a bus would be in the solar system is', Bus_weight * max(gravity_on_planets), 'kg')\n"
   ]
  },
  {
   "cell_type": "markdown",
   "metadata": {},
   "source": [
    "MANIPULAR DATOS DE LISTA"
   ]
  },
  {
   "cell_type": "code",
   "execution_count": 22,
   "metadata": {},
   "outputs": [
    {
     "name": "stdout",
     "output_type": "stream",
     "text": [
      "['Mercury', 'Venus']\n",
      "\n",
      " ['Mars', 'Jupiter', 'Saturn', 'Uranus', 'Neptune']\n",
      "\n",
      " ['Mars', 'Jupiter', 'Saturn', 'Uranus', 'Neptune']\n",
      "\n",
      "The regular satellite moons of Jupiter are ['Metis', 'Adrastea', 'Amalthea', 'Thebe', 'Io', 'Europa', 'Ganymede', 'Callisto']\n",
      "\n",
      "The regular satellite moons of Jupiter are ['Adrastea', 'Amalthea', 'Callisto', 'Europa', 'Ganymede', 'Io', 'Metis', 'Thebe']\n",
      "\n",
      "The regular satellite moons of Jupiter are ['Thebe', 'Metis', 'Io', 'Ganymede', 'Europa', 'Callisto', 'Amalthea', 'Adrastea']\n",
      "\n",
      " ['Thebe', 'Metis', 'Io', 'Ganymede', 'Europa', 'Callisto', 'Amalthea', 'Adrastea']\n"
     ]
    }
   ],
   "source": [
    "# Python proporciona un soporte sólido para trabajar con los datos en las listas. Este soporte incluye el slicing (examinando solo una parte) y el sorting.\n",
    "# SLICE LIST\n",
    "\n",
    "# Puedes recuperar una parte de una lista mediante un slice (Entendamos slice como una porción, un pedacito, un fragmento, segmento.). \n",
    "# Slice utiliza corchetes([]), pero en lugar de un solo elemento, tiene los índices inicial y final de los elementos que queremos recuperar. \n",
    "# Cuando se utiliza slice, se crea una nueva lista que comienza en el índice inicial y que termina antes (y no incluye) el índice final. \n",
    "\n",
    "# La lista de planetas tiene ocho elementos. La Tierra es la tercera en la lista. Para obtener los planetas antes que la Tierra, use un slice para obtener elementos que comienzan en 0 y terminan en 2:\n",
    "\n",
    "planets = ['Mercury', 'Venus', 'Earth', 'Mars', 'Jupiter', 'Saturn', 'Uranus', 'Neptune']\n",
    "planets_before_earth = planets[0:2]\n",
    "print(planets_before_earth)\n",
    "\n",
    "planets_after_earth = planets[3:8]\n",
    "print('\\n', planets_after_earth)\n",
    "# En este ejemplo, se muestra Neptuno. La razón es que el índice para Neptuno es 7, porque la indexación comienza en 0. Debido a que el índice final era 8,\n",
    "# incluye el último valor. Si no coloca el índice de detención en el slice, Python asume que deseas ir al final de la lista:\n",
    "\n",
    "planets_after_earth = planets [3:]\n",
    "print('\\n', planets_after_earth)\n",
    "# Un slice crea una nueva lista. No modifica la lista actual.\n",
    "\n",
    "# UNIENDO LISTAS\n",
    "# Para unir dos listas, utilice el operador (+) con dos listas para devolver una nueva lista.\n",
    "\n",
    "# Crea dos listas. Llene la primera lista con las cuatro lunas de Amaltea y la segunda lista con las cuatro lunas galileanas. Únelos para crear una nueva lista:\n",
    "\n",
    "amalthea_group = ['Metis', 'Adrastea', 'Amalthea', 'Thebe']\n",
    "galilean_moons = ['Io', 'Europa', 'Ganymede', 'Callisto']\n",
    "regular_satellite_moons = amalthea_group + galilean_moons\n",
    "print('\\nThe regular satellite moons of Jupiter are', regular_satellite_moons)\n",
    "#Al unir las listas, se crea una nueva lista. No se modifica la lista actual.\n",
    "\n",
    "\n",
    "# ORDENAR LISTA\n",
    "# Para ordenar una lista, utilizamos el método sort() de la lista. Python ordenará una lista de cadenas en orden alfabético y una lista de números en orden numérico:\n",
    "\n",
    "regular_satellite_moons.sort()\n",
    "print(\"\\nThe regular satellite moons of Jupiter are\", regular_satellite_moons)\n",
    "\n",
    "# Para ordenar una lista en forma inversa, llamamos al método .sort(reverse=True) de la lista:\n",
    "regular_satellite_moons.sort(reverse=True)\n",
    "print(\"\\nThe regular satellite moons of Jupiter are\", regular_satellite_moons)\n",
    "# Al usar el método .sort modificas la lista actual.\n",
    "\n",
    "print('\\n', regular_satellite_moons)\n"
   ]
  },
  {
   "cell_type": "markdown",
   "metadata": {},
   "source": [
    "Módulo6Katas"
   ]
  },
  {
   "cell_type": "code",
   "execution_count": 4,
   "metadata": {},
   "outputs": [
    {
     "name": "stdout",
     "output_type": "stream",
     "text": [
      "['Mercurio', 'Venus', 'Tierra', 'Marte', 'Jupiter', 'Saturno', 'Urano', 'Neptuno']\n",
      "['Mercurio', 'Venus', 'Tierra', 'Marte', 'Jupiter', 'Saturno', 'Urano', 'Neptuno', 'Pluton']\n",
      "9\n",
      "El ultimo planeta es Pluton\n"
     ]
    }
   ],
   "source": [
    "# EJERCICIO 1: CREAR Y USAR LISTA DE PYTHON\n",
    "\n",
    "Planetas = ['Mercurio', 'Venus', 'Tierra', 'Marte', 'Jupiter', 'Saturno', 'Urano', 'Neptuno']\n",
    "print(Planetas)\n",
    "Planetas.append('Pluton')\n",
    "print(Planetas)\n",
    "Numero_de_Planetas = len(Planetas)\n",
    "print(Numero_de_Planetas)\n",
    "print('El ultimo planeta es', Planetas[-1])"
   ]
  },
  {
   "cell_type": "code",
   "execution_count": 9,
   "metadata": {},
   "outputs": [
    {
     "name": "stdout",
     "output_type": "stream",
     "text": [
      "Esto son los planetas mas cercanos a Venus\n",
      "['Mercury']\n",
      "Esto son los planetas mas lejanos a Venus\n",
      "['Earth', 'Mars', 'Jupiter', 'Saturn', 'Neptune']\n"
     ]
    }
   ],
   "source": [
    "# EJERCICIO 2: TRABAJAR CON DATOS DE UNA LISTA\n",
    "\n",
    "planets = ['Mercurio', 'Venus', 'Tierra', 'Marte', 'Jupiter', 'Saturno', 'Urano', 'Neptune']\n",
    "Add_name_planet = input('Escribe el nombre de un planeta, Ingresa la Primer letra en Mayuscula: ')\n",
    "name_planet_index = planets.index(Add_name_planet)\n",
    "print('Esto son los planetas mas cercanos a ' + Add_name_planet)\n",
    "print(planets[0:name_planet_index])\n",
    "print('Esto son los planetas mas lejanos a ' + Add_name_planet)\n",
    "print(planets[name_planet_index + 1:])"
   ]
  }
 ],
 "metadata": {
  "interpreter": {
   "hash": "1ada1ad9313aef9b9af45f81f1cec9389e62f6424632f9d10ec8ac56110be255"
  },
  "kernelspec": {
   "display_name": "Python 3.10.2 64-bit (windows store)",
   "language": "python",
   "name": "python3"
  },
  "language_info": {
   "codemirror_mode": {
    "name": "ipython",
    "version": 3
   },
   "file_extension": ".py",
   "mimetype": "text/x-python",
   "name": "python",
   "nbconvert_exporter": "python",
   "pygments_lexer": "ipython3",
   "version": "3.10.2"
  },
  "orig_nbformat": 4
 },
 "nbformat": 4,
 "nbformat_minor": 2
}
