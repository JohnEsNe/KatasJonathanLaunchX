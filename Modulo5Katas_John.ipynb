{
 "cells": [
  {
   "cell_type": "markdown",
   "metadata": {},
   "source": [
    "¿Qué son los operadores en Python?"
   ]
  },
  {
   "cell_type": "code",
   "execution_count": 64,
   "metadata": {},
   "outputs": [
    {
     "name": "stdout",
     "output_type": "stream",
     "text": [
      "Suma =  42\n",
      "Resta =  18\n",
      "Multiplicación = 360\n",
      "División = 2.5\n",
      "17.433333333333334\n",
      "17\n",
      "17\n",
      "22\n"
     ]
    }
   ],
   "source": [
    "# Adición (Suma '+')\n",
    "answer = 30 + 12\n",
    "print('Suma = ', answer)\n",
    "\n",
    "# Sustracción (Resta '-')\n",
    "difference = 30 - 12\n",
    "print('Resta = ', difference)\n",
    "\n",
    "# Multiplicación ('*')\n",
    "product = 30 *12\n",
    "print('Multiplicación =', product)\n",
    "\n",
    "# División ('/')\n",
    "quotient = 30 / 12\n",
    "print('División =', quotient)\n",
    "\n",
    "# Trabajar con la División\n",
    "seconds = 1042\n",
    "display_minutes = 1046 / 60 # Con decimales\n",
    "print(display_minutes)\n",
    "\n",
    "# División de Piso\n",
    "display_minutes = 1046 // 60 # Enteros\n",
    "print(display_minutes)\n",
    "\n",
    "seconds = 1042\n",
    "display_minutes = 1042 // 60\n",
    "display_seconds = 1042 % 60\n",
    "print(display_minutes)\n",
    "print(display_seconds)"
   ]
  },
  {
   "cell_type": "markdown",
   "metadata": {},
   "source": [
    "Orden de funcionamiento (Jerarquía de Operaciones)"
   ]
  },
  {
   "cell_type": "code",
   "execution_count": 65,
   "metadata": {},
   "outputs": [
    {
     "name": "stdout",
     "output_type": "stream",
     "text": [
      "1084\n",
      "1084\n"
     ]
    }
   ],
   "source": [
    "# Orden de Operación\n",
    "# 1.- Paréntesis ()\n",
    "# 2.- Exponentes # de Multiplicación\n",
    "# 3.- Multiplicación y División *, /\n",
    "# 4.- Suma y resta +, -\n",
    "\n",
    "# Evaluar Parentesis\n",
    "\n",
    "result_1 = 1032 + 26 * 2\n",
    "result_2 = 1032 + (26 * 2)\n",
    "print(result_1)\n",
    "print(result_2)"
   ]
  },
  {
   "cell_type": "markdown",
   "metadata": {},
   "source": [
    "Trabajar con Numeros en Python"
   ]
  },
  {
   "cell_type": "code",
   "execution_count": 66,
   "metadata": {},
   "outputs": [
    {
     "name": "stdout",
     "output_type": "stream",
     "text": [
      "215\n",
      "215.3\n"
     ]
    }
   ],
   "source": [
    "# Convertir Cadenas en Números (Funciones 'Int, Float')\n",
    "\n",
    "# Número Entero (Int)\n",
    "demo_int = int('215')\n",
    "print(demo_int)\n",
    "\n",
    "# Número Decimal (Float)\n",
    "demo_float = float('215.3')\n",
    "print(demo_float)"
   ]
  },
  {
   "cell_type": "code",
   "execution_count": 73,
   "metadata": {},
   "outputs": [
    {
     "name": "stdout",
     "output_type": "stream",
     "text": [
      "a = 23\n",
      "b = 23\n"
     ]
    }
   ],
   "source": [
    "# VALORES ABSOLUTOS = valor absoluto en matemáticas es el número no negativo sin su signo  (Función 'abs')\n",
    "a = 39 - 16\n",
    "b = 16 - 39\n",
    "print('a =', abs(a))\n",
    "print('b =', abs(b))"
   ]
  },
  {
   "cell_type": "code",
   "execution_count": 77,
   "metadata": {},
   "outputs": [
    {
     "name": "stdout",
     "output_type": "stream",
     "text": [
      "14\n",
      "15\n"
     ]
    }
   ],
   "source": [
    "# REDONDEO (Función 'Round')\n",
    "print(round(14.5))\n",
    "print(round(14.6))\n"
   ]
  },
  {
   "cell_type": "code",
   "execution_count": 83,
   "metadata": {},
   "outputs": [
    {
     "name": "stdout",
     "output_type": "stream",
     "text": [
      "Función Ceil = 13\n",
      "Función Floor 12\n"
     ]
    }
   ],
   "source": [
    "# Biblioteca Math\n",
    "from math import ceil, floor\n",
    "\n",
    "round_up = ceil(ceil(12.5)) # Redondear siempre hacia arriba \n",
    "print('Función Ceil =', round_up)\n",
    "\n",
    "round_down = floor (floor(12.5)) # Redondear siempre hacia abajo\n",
    "print('Función Floor', round_down)\n"
   ]
  },
  {
   "cell_type": "markdown",
   "metadata": {},
   "source": [
    "Modulo5Katas"
   ]
  },
  {
   "cell_type": "code",
   "execution_count": 21,
   "metadata": {},
   "outputs": [
    {
     "name": "stdout",
     "output_type": "stream",
     "text": [
      "Distancia en Kilometros = 628949330\n",
      "Distancia en Millas = 390577534\n",
      "Distancia en Kilomentros = 5439390647\n",
      "Distancia en Millas = 3377861592\n"
     ]
    }
   ],
   "source": [
    "#EJERCICO 1\n",
    "\n",
    "# Crae Variables para almacenar las dos distancias\n",
    "tierra = 149597870 # Quitar las comas \n",
    "Jupiter = 778547200 # Quitar las comas\n",
    "\n",
    "#  Calcula la distancia entre planetas\n",
    "\n",
    "Distancia = (tierra - Jupiter)\n",
    "print('Distancia en Kilometros =', abs(round(Distancia)))\n",
    "\n",
    "Millas = (tierra * .621 - Jupiter * .621)\n",
    "print('Distancia en Millas =', abs(round(Millas)))\n",
    "\n",
    "#EJERCICIO 2\n",
    "\n",
    "Planeta_1 = input('Introduce primer distancia del sol al pirmer planeta (Kilometros)')\n",
    "Planeta_2 = input('Introducir segunda distancia del sol al segundo planeta (Kilomentros)')\n",
    "\n",
    "Planeta_1 = int(Planeta_1)\n",
    "Planeta_2 = int(Planeta_2)\n",
    "\n",
    "distancia_km = Planeta_1 - Planeta_2\n",
    "print('Distancia en Kilomentros =', (abs(distancia_km)))\n",
    "\n",
    "Distancia_mi = distancia_km * .621\n",
    "print('Distancia en Millas =', abs(round(Distancia_mi)))"
   ]
  }
 ],
 "metadata": {
  "interpreter": {
   "hash": "1ada1ad9313aef9b9af45f81f1cec9389e62f6424632f9d10ec8ac56110be255"
  },
  "kernelspec": {
   "display_name": "Python 3.10.2 64-bit (windows store)",
   "language": "python",
   "name": "python3"
  },
  "language_info": {
   "codemirror_mode": {
    "name": "ipython",
    "version": 3
   },
   "file_extension": ".py",
   "mimetype": "text/x-python",
   "name": "python",
   "nbconvert_exporter": "python",
   "pygments_lexer": "ipython3",
   "version": "3.10.2"
  },
  "orig_nbformat": 4
 },
 "nbformat": 4,
 "nbformat_minor": 2
}
