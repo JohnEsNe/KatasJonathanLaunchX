{
 "cells": [
  {
   "cell_type": "markdown",
   "metadata": {},
   "source": [
    "MODULO 7 - ESTRUCTURA DE CONTROL"
   ]
  },
  {
   "cell_type": "code",
   "execution_count": null,
   "metadata": {},
   "outputs": [],
   "source": [
    "# En este módulo, exploraremos cómo puedes usar los ciclos 'while' y 'for' para crear esta aplicación. \n",
    "# Al final del módulo, sabrás utilizar los ciclos 'while' y 'for'.\n",
    "\n",
    "# ACERCA DE LOS CICLOS 'WHILE'\n",
    "\n",
    "# Para admitir una entrada de usuario o ejecutar una tarea, un número desconocido de veces, puedes usar un ciclo while.\n",
    "\n",
    "# Un ciclo while realiza una operación mientras (while, en inglés) una determinada condición es True. Funcionan para evaluar \n",
    "# si hay otra línea en un archivo, si se ha establecido una marca, si un usuario ha terminado de escribir valores o bien ha \n",
    "# cambiado algo más para indicar que el código puede dejar de realizar la operación.\n",
    "\n",
    "# Lo más importante que se debe recordar al crear ciclos while es asegurarse de que cambia la condición. Si la condición siempre es True, \n",
    "# Python seguirá ejecutando el código hasta que el programa se bloquee.\n",
    "\n",
    "# La sintaxis de un ciclo while es similar a la de una instrucción if. Proporciona una condición, así como el código que quieres ejecutar \n",
    "# mientras la condición sea True (Oséa, mientras la condición se cumpla o sea verdadera).\n",
    "\n",
    "# Un ciclo while tiene tres partes importantes:\n",
    "\n",
    "#   La palabra while, seguida de un espacio.\n",
    "#   La condición que se va a probar. Si la condición es True, se ejecutará el código dentro del ciclo while.\n",
    "#   El código que quiere ejecutar para cada elemento del objeto iterable, seguido de espacios en blanco anidados. Por ejemplo:\n",
    "\n",
    "#while condition:\n",
    "    # lo que quieres que se ejecute\n",
    "\n",
    "# Se lee de la siguiente manera: Mientras la condición se cumpla: ejecuta el código\n",
    "\n",
    "# Veamos cómo puedes crear código para pedir a los usuarios que escriban valores y, después, permitirles usar done cuando terminen de \n",
    "# escribir los valores. En nuestro ejemplo, usaremos la entrada de usuario como condición y, después, la probaremos al principio del ciclo while.\n",
    "\n",
    "user_input = '' # Definimos la variable user_input (Para guardar lo que el usuario va a escribir)\n",
    "while user_input.lower() != 'done': # mientras(while) lo que el usuario escriba(user_input), convertido a minúsculas(.lower()) sea diferente de(!=) la palabra 'done' quiero que: \n",
    "    user_input = input('Enter a new value, or done when done\\n\\n') # Guardes en la variable user_input(user_input =), lo que el usuario escriba (input), muestra un texto de ejemplo para el usuario('Enter a new value, or done when done').\n",
    "    print(user_input) # Muestra las palabras agregadas y finaliza con la palabra 'done'"
   ]
  },
  {
   "cell_type": "code",
   "execution_count": 8,
   "metadata": {},
   "outputs": [
    {
     "name": "stdout",
     "output_type": "stream",
     "text": [
      "Mercurio\n",
      "Venus\n",
      "Tierra\n",
      "Marte\n",
      "Jupiter\n",
      "Saturno\n",
      "Urano\n",
      "Neptuno\n"
     ]
    }
   ],
   "source": [
    "# Tengamos en cuenta que se usa input para preguntar a los usuarios. Cada vez que los usuarios escriben un nuevo valor, cambian la condición, lo que significa que el ciclo while \n",
    "# se finalizará una vez que se haya escrito la palabra done, si escribes cualquier otra palabra el ciclo continuará.\n",
    "\n",
    "# Puedes usar la cadena recién escrita como lo haríamos con cualquier otra cadena capturada con input. Si quieres agregarla a una lista, puedes usar código similar al ejemplo siguiente:\n",
    "\n",
    "user_input = '' # Creamos la Variable que almacena el texto\n",
    "inputs = [] # Creamos la lista que almacena cada uno de los textos que el usuario ingrese\n",
    "\n",
    "# Cliclo 'While'\n",
    "while user_input.lower() != 'done':\n",
    "    if user_input: # Verificamos si hay un valor en user_input\n",
    "        inputs.append(user_input) # Almacenamos ese valor en la lista\n",
    "    user_input = input('Enter a new value, or done when done')\n",
    "#    print(user_input)\n",
    "#    print(inputs)\n",
    "\n",
    "\n",
    "# Vamos a cambiar el código anterior para que espere un segundo entre cada número mediante la función sleep():\n",
    "\n",
    "# De la biblioteca time, importamos (traemos) la clase sleep\n",
    "\n",
    "from time import sleep\n",
    "\n",
    "# Para cada número en countdown\n",
    "for planets in inputs:\n",
    "    #Muestra el número\n",
    "    print(planets)\n",
    "\n",
    "    # Espera (1segundo)\n",
    "    sleep(1)"
   ]
  },
  {
   "cell_type": "code",
   "execution_count": 9,
   "metadata": {},
   "outputs": [
    {
     "name": "stdout",
     "output_type": "stream",
     "text": [
      "The first planet is  Mercury\n",
      "The second planet is  Venus\n",
      "The third planet is  Earth\n",
      "4\n",
      "3\n",
      "2\n",
      "1\n",
      "0\n",
      "Blast off!! \n"
     ]
    }
   ],
   "source": [
    "# USO DEL CICLO 'for' CON LISTAS\n",
    "\n",
    "# En Python, las listas pueden almacenar cualquier tipo de valor, como cadenas o números:\n",
    "\n",
    "planets = [\"Mercury\", \"Venus\", \"Earth\", \"Mars\", \"Jupiter\", \"Saturn\", \"Uranus\", \"Neptune\"]\n",
    "\n",
    "# Puedes acceder a cualquier elemento de una lista poniendo el índice entre corchetes ([]) después del nombre de la variable. Los índices comienzan a partir de 0:\n",
    "\n",
    "print(\"The first planet is \", planets[0])\n",
    "print(\"The second planet is \", planets[1])\n",
    "print(\"The third planet is \", planets[2])\n",
    "\n",
    "# También puede determinar el número de elementos de una lista mediante len. Por lo tanto, podría usar un ciclo while y un contador para recorrer en ciclo o en iteración cada elemento de la lista. \n",
    "# Dado que se trata de una operación tan común, Python proporciona ciclos for, que puedes usar para recorrer en iteración las listas.\n",
    "\n",
    "# Python tiene muchos tipos que se pueden recorrer en ciclo. Estos tipos se conocen como iterables.\n",
    "\n",
    "# Las listas de Python son iterables y se pueden usar con un ciclo for. Se usa un ciclo for con objetos iterables que va a recorrer en ciclo un número conocido de veces, una vez para cada elemento del objeto iterable.\n",
    "\n",
    "\n",
    "# ACERCA DE LOS CICLOS 'for'\n",
    "\n",
    "\n",
    "# Este es un ciclo 'for' de ejemplo que hace una cuenta atrás, de 4 a 0:\n",
    "\n",
    "countdown = [4, 3, 2, 1, 0]\n",
    "for number in countdown:\n",
    "    print(number)\n",
    "print(\"Blast off!! \")\n",
    "\n",
    "# El ciclo for es una instrucción con cinco partes importantes:\n",
    "\n",
    "    # La palabra for, seguida de un espacio.\n",
    "    # El nombre de la variable que quieres crear para cada valor de la secuencia (number).\n",
    "    # La palabra in, entre espacios.\n",
    "    # El nombre de la lista (countdown, en el ejemplo anterior) u objeto iterable que quieres recorrer en ciclo, seguido de dos puntos (:).\n",
    "    # El código que quieres ejecutar para cada elemento del objeto iterable, separado por espacios en blanco anidados."
   ]
  },
  {
   "cell_type": "code",
   "execution_count": 10,
   "metadata": {},
   "outputs": [
    {
     "name": "stdout",
     "output_type": "stream",
     "text": [
      "4\n",
      "3\n",
      "2\n",
      "1\n",
      "0\n",
      "Blast off!! 🚀\n"
     ]
    }
   ],
   "source": [
    "# Vamos a cambiar el código anterior para que espere un segundo entre cada número mediante la función sleep():\n",
    "\n",
    "# De la biblioteca time, importamos (traemos) la clase sleep\n",
    "\n",
    "from time import sleep\n",
    "\n",
    "# Creamos una lista de 5 números llamada countdown\n",
    "countdown = [4, 3, 2, 1, 0]\n",
    "\n",
    "# Para cada número en countdown\n",
    "for number in countdown:\n",
    "    #Muestra el número\n",
    "    print(number)\n",
    "\n",
    "    # Espera (1segundo)\n",
    "    sleep(1)\n",
    "\n",
    "# Muestra el mensaje Blast off\n",
    "print(\"Blast off!! 🚀\")\n",
    "\n",
    "# La mayoría del código de Python usa cuatro espacios como la unidad del espacio en blanco (sangría). \n",
    "# Para ahorrar tener que presionar la barra espaciadora cuatro veces, la mayoría de los editores tienen una función\n",
    "# rápida de teclado con la tecla Tab, que inserta cuatro espacios."
   ]
  },
  {
   "cell_type": "markdown",
   "metadata": {},
   "source": [
    "Módulo7Katas"
   ]
  },
  {
   "cell_type": "code",
   "execution_count": 14,
   "metadata": {},
   "outputs": [
    {
     "name": "stdout",
     "output_type": "stream",
     "text": [
      "Mercurio\n",
      "Venus\n",
      "Tierra\n",
      "Marte\n",
      "Jupiter\n",
      "Saturno\n",
      "Urano\n",
      "Neptuno\n"
     ]
    }
   ],
   "source": [
    "# EJERCICIO 1: CREACIÓN DE UN BUCLE \"WHILE\"\n",
    "\n",
    "New_planet = ''\n",
    "planets = []\n",
    "\n",
    "while New_planet.lower() != 'done':\n",
    "    if New_planet:\n",
    "        planets.append(New_planet)\n",
    "    New_planet = input('Enter a new planet, or done when done')\n",
    "\n",
    "# EJERCICIO 2: CREACIÓN DE UN CICLO \"for\"\n",
    "\n",
    "from time import sleep\n",
    "\n",
    "for planet in planets:\n",
    "    print(planet)\n",
    "    sleep(1)"
   ]
  }
 ],
 "metadata": {
  "interpreter": {
   "hash": "1ada1ad9313aef9b9af45f81f1cec9389e62f6424632f9d10ec8ac56110be255"
  },
  "kernelspec": {
   "display_name": "Python 3.10.2 64-bit (windows store)",
   "language": "python",
   "name": "python3"
  },
  "language_info": {
   "codemirror_mode": {
    "name": "ipython",
    "version": 3
   },
   "file_extension": ".py",
   "mimetype": "text/x-python",
   "name": "python",
   "nbconvert_exporter": "python",
   "pygments_lexer": "ipython3",
   "version": "3.10.2"
  },
  "orig_nbformat": 4
 },
 "nbformat": 4,
 "nbformat_minor": 2
}
