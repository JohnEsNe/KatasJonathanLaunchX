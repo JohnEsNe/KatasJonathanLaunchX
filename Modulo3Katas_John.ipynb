{
 "cells": [
  {
   "cell_type": "code",
   "execution_count": 11,
   "metadata": {},
   "outputs": [
    {
     "name": "stdout",
     "output_type": "stream",
     "text": [
      "Anvertencian, advertencia, corra por su vida\n"
     ]
    }
   ],
   "source": [
    "Tierra = 25\n",
    "a = 49 #asteroide\n",
    "v = 25 #velocidad maxima\n",
    "\n",
    "if a > v:\n",
    "    print(\"Anvertencian, advertencia, corra por su vida\")\n",
    "else:\n",
    "    print(\"Continue pasando un excelente dia\")"
   ]
  },
  {
   "cell_type": "code",
   "execution_count": 17,
   "metadata": {},
   "outputs": [
    {
     "name": "stdout",
     "output_type": "stream",
     "text": [
      "sin riesgo alguno\n"
     ]
    }
   ],
   "source": [
    "a = 19 # asteroide\n",
    "v = 20 # velocidad de atmosfera\n",
    "if a >= v:\n",
    "    print(\"Rayo de luz en el cielo, Advertencia: asteroide muy cerca\")\n",
    "elif a == v:\n",
    "    print(\"Rayo de luz en el cielo, Advertencia: asteroide muy cerca\")\n",
    "else:\n",
    "    print(\"sin riesgo alguno\")"
   ]
  },
  {
   "cell_type": "code",
   "execution_count": 20,
   "metadata": {},
   "outputs": [
    {
     "name": "stdout",
     "output_type": "stream",
     "text": [
      "alerta\n"
     ]
    }
   ],
   "source": [
    "a = 25 # Dimension de asteroide\n",
    "v = 35 # Velocidad Maxima\n",
    "if a < 25 and v < 25:\n",
    "    print(\"No hay nuingun riesgo\")\n",
    "elif a >= 25 and v >= 25:\n",
    "    print(\"alerta\")\n",
    "elif v >= 25:\n",
    "    print(\"Una luz en el cielo\")\n",
    "else:\n",
    "    print (\"no pasa nada\")\n"
   ]
  }
 ],
 "metadata": {
  "interpreter": {
   "hash": "aac73f3ae44b4529154a1d11f1c913080cdb14281e971e1af11d1b55389f74fc"
  },
  "kernelspec": {
   "display_name": "Python 3.10.2 64-bit",
   "language": "python",
   "name": "python3"
  },
  "language_info": {
   "codemirror_mode": {
    "name": "ipython",
    "version": 3
   },
   "file_extension": ".py",
   "mimetype": "text/x-python",
   "name": "python",
   "nbconvert_exporter": "python",
   "pygments_lexer": "ipython3",
   "version": "3.10.2"
  },
  "orig_nbformat": 4
 },
 "nbformat": 4,
 "nbformat_minor": 2
}
